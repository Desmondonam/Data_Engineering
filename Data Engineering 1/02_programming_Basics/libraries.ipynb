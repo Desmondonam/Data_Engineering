{
 "cells": [
  {
   "cell_type": "markdown",
   "metadata": {},
   "source": [
    "# 📌 Complete Guide to Python Pandas for Data Engineering\n",
    "\n",
    "Table of Contents\n",
    "\n",
    "- Introduction to Pandas\n",
    "- Installing and Importing Pandas\n",
    "- Pandas Data Structures\n",
    "    - Series\n",
    "    - DataFrame\n",
    "- Loading and Exporting Data\n",
    "    - CSV, Excel, SQL, JSON, Parquet\n",
    "- Data Cleaning and Preprocessing\n",
    "    - Handling Missing Data\n",
    "    - Removing Duplicates\n",
    "    - String Operations\n",
    "    - Data Type Conversion\n",
    "- Data Transformation\n",
    "    - Merging, Joining, and Concatenation\n",
    "    - Grouping and Aggregations\n",
    "    - Pivot Tables\n",
    "    - Reshaping Data\n",
    "- Data Filtering and Selection\n",
    "    - Indexing and Slicing\n",
    "    - Querying Data\n",
    "- Performance Optimization\n",
    "    - Using Efficient Data Types\n",
    "    - Working with Large Datasets\n",
    "    - Parallel Processing\n",
    "- Working with Time Series Data\n",
    "- Integration with SQL and Databases\n",
    "- Pandas and Big Data Processing\n",
    "- Practical Real-World Example"
   ]
  },
  {
   "cell_type": "markdown",
   "metadata": {},
   "source": [
    "# 📌 1. Introduction to Pandas\n",
    "- Pandas is a Python library used for data manipulation and analysis. It provides Series and DataFrame objects for handling structured data efficiently."
   ]
  },
  {
   "cell_type": "markdown",
   "metadata": {},
   "source": [
    "# 📌 2. Installing and Importing Pandas\n",
    "- You can install Pandas using:\n",
    "\n",
    "\n",
    "`pip install pandas`"
   ]
  },
  {
   "cell_type": "markdown",
   "metadata": {},
   "source": [
    "Then, import it in Python:"
   ]
  },
  {
   "cell_type": "code",
   "execution_count": 1,
   "metadata": {},
   "outputs": [],
   "source": [
    "import pandas as pd"
   ]
  },
  {
   "cell_type": "markdown",
   "metadata": {},
   "source": [
    "# 📌 3. Pandas Data Structures\n",
    "### 🔹 Series (1D Data)\n",
    "- A Pandas Series is a one-dimensional labeled array."
   ]
  },
  {
   "cell_type": "code",
   "execution_count": 2,
   "metadata": {},
   "outputs": [
    {
     "name": "stdout",
     "output_type": "stream",
     "text": [
      "a    10\n",
      "b    20\n",
      "c    30\n",
      "d    40\n",
      "dtype: int64\n"
     ]
    }
   ],
   "source": [
    "data = pd.Series([10, 20, 30, 40], index=['a', 'b', 'c', 'd'])\n",
    "print(data)"
   ]
  },
  {
   "cell_type": "markdown",
   "metadata": {},
   "source": [
    "### 🔹 DataFrame (2D Data)\n",
    "- A Pandas DataFrame is a two-dimensional table with labeled rows and columns."
   ]
  },
  {
   "cell_type": "code",
   "execution_count": 3,
   "metadata": {},
   "outputs": [
    {
     "name": "stdout",
     "output_type": "stream",
     "text": [
      "      Name  Age  Salary\n",
      "0    Alice   25   50000\n",
      "1      Bob   30   60000\n",
      "2  Charlie   35   70000\n"
     ]
    }
   ],
   "source": [
    "data = {\n",
    "    'Name': ['Alice', 'Bob', 'Charlie'],\n",
    "    'Age': [25, 30, 35],\n",
    "    'Salary': [50000, 60000, 70000]\n",
    "}\n",
    "df = pd.DataFrame(data)\n",
    "print(df)"
   ]
  },
  {
   "cell_type": "markdown",
   "metadata": {},
   "source": [
    "# 📌 4. Loading and Exporting Data\n",
    "### 🔹 Reading Data"
   ]
  },
  {
   "cell_type": "code",
   "execution_count": 6,
   "metadata": {},
   "outputs": [],
   "source": [
    "df = pd.read_csv(r\"C:\\Users\\Admin\\Desktop\\Data_Engineering\\Data Engineering 1\\02_programming_Basics\\Python_\\data\\sample_data.csv\")  # CSV\n",
    "# df = pd.read_excel(\"data.xlsx\")  # Excel\n",
    "# df = pd.read_json(\"data.json\")  # JSON\n",
    "# df = pd.read_parquet(\"data.parquet\")  # Parquet\n",
    "# df = pd.read_sql(\"SELECT * FROM table_name\", con=database_connection)  # SQL"
   ]
  },
  {
   "cell_type": "markdown",
   "metadata": {},
   "source": [
    "### 🔹 Writing Data"
   ]
  },
  {
   "cell_type": "code",
   "execution_count": 7,
   "metadata": {},
   "outputs": [],
   "source": [
    "# df.to_csv(r\"Data Engineering 1\\02_programming_Basics\\Python_\\data\\sample_data.csv\", index=False)\n",
    "# df.to_excel(\"output.xlsx\", index=False)\n",
    "# df.to_json(\"output.json\", orient='records')\n",
    "# df.to_parquet(\"output.parquet\", index=False)"
   ]
  },
  {
   "cell_type": "markdown",
   "metadata": {},
   "source": [
    "# 📌 5. Data Cleaning and Preprocessing\n",
    "### 🔹 Handling Missing Data"
   ]
  },
  {
   "cell_type": "code",
   "execution_count": 9,
   "metadata": {},
   "outputs": [
    {
     "data": {
      "text/html": [
       "<div>\n",
       "<style scoped>\n",
       "    .dataframe tbody tr th:only-of-type {\n",
       "        vertical-align: middle;\n",
       "    }\n",
       "\n",
       "    .dataframe tbody tr th {\n",
       "        vertical-align: top;\n",
       "    }\n",
       "\n",
       "    .dataframe thead th {\n",
       "        text-align: right;\n",
       "    }\n",
       "</style>\n",
       "<table border=\"1\" class=\"dataframe\">\n",
       "  <thead>\n",
       "    <tr style=\"text-align: right;\">\n",
       "      <th></th>\n",
       "      <th>id</th>\n",
       "      <th>name</th>\n",
       "      <th>age</th>\n",
       "      <th>city</th>\n",
       "      <th>salary</th>\n",
       "    </tr>\n",
       "  </thead>\n",
       "  <tbody>\n",
       "    <tr>\n",
       "      <th>0</th>\n",
       "      <td>1</td>\n",
       "      <td>John</td>\n",
       "      <td>28</td>\n",
       "      <td>New York</td>\n",
       "      <td>75000</td>\n",
       "    </tr>\n",
       "    <tr>\n",
       "      <th>1</th>\n",
       "      <td>2</td>\n",
       "      <td>Jane</td>\n",
       "      <td>35</td>\n",
       "      <td>San Francisco</td>\n",
       "      <td>85000</td>\n",
       "    </tr>\n",
       "    <tr>\n",
       "      <th>2</th>\n",
       "      <td>3</td>\n",
       "      <td>Michael</td>\n",
       "      <td>22</td>\n",
       "      <td>Los Angeles</td>\n",
       "      <td>60000</td>\n",
       "    </tr>\n",
       "    <tr>\n",
       "      <th>3</th>\n",
       "      <td>4</td>\n",
       "      <td>Emily</td>\n",
       "      <td>31</td>\n",
       "      <td>Chicago</td>\n",
       "      <td>70000</td>\n",
       "    </tr>\n",
       "    <tr>\n",
       "      <th>4</th>\n",
       "      <td>5</td>\n",
       "      <td>William</td>\n",
       "      <td>29</td>\n",
       "      <td>Boston</td>\n",
       "      <td>80000</td>\n",
       "    </tr>\n",
       "    <tr>\n",
       "      <th>5</th>\n",
       "      <td>6</td>\n",
       "      <td>Sophia</td>\n",
       "      <td>26</td>\n",
       "      <td>Seattle</td>\n",
       "      <td>70000</td>\n",
       "    </tr>\n",
       "    <tr>\n",
       "      <th>6</th>\n",
       "      <td>7</td>\n",
       "      <td>Alexander</td>\n",
       "      <td>33</td>\n",
       "      <td>Dallas</td>\n",
       "      <td>90000</td>\n",
       "    </tr>\n",
       "    <tr>\n",
       "      <th>7</th>\n",
       "      <td>8</td>\n",
       "      <td>Olivia</td>\n",
       "      <td>27</td>\n",
       "      <td>Austin</td>\n",
       "      <td>75000</td>\n",
       "    </tr>\n",
       "    <tr>\n",
       "      <th>8</th>\n",
       "      <td>9</td>\n",
       "      <td>James</td>\n",
       "      <td>30</td>\n",
       "      <td>Miami</td>\n",
       "      <td>80000</td>\n",
       "    </tr>\n",
       "    <tr>\n",
       "      <th>9</th>\n",
       "      <td>10</td>\n",
       "      <td>Charlotte</td>\n",
       "      <td>32</td>\n",
       "      <td>Denver</td>\n",
       "      <td>85000</td>\n",
       "    </tr>\n",
       "    <tr>\n",
       "      <th>10</th>\n",
       "      <td>11</td>\n",
       "      <td>Ethan</td>\n",
       "      <td>25</td>\n",
       "      <td>Atlanta</td>\n",
       "      <td>70000</td>\n",
       "    </tr>\n",
       "    <tr>\n",
       "      <th>11</th>\n",
       "      <td>12</td>\n",
       "      <td>Emma</td>\n",
       "      <td>29</td>\n",
       "      <td>Houston</td>\n",
       "      <td>75000</td>\n",
       "    </tr>\n",
       "    <tr>\n",
       "      <th>12</th>\n",
       "      <td>13</td>\n",
       "      <td>Liam</td>\n",
       "      <td>34</td>\n",
       "      <td>Phoenix</td>\n",
       "      <td>95000</td>\n",
       "    </tr>\n",
       "    <tr>\n",
       "      <th>13</th>\n",
       "      <td>14</td>\n",
       "      <td>Isabella</td>\n",
       "      <td>28</td>\n",
       "      <td>San Diego</td>\n",
       "      <td>80000</td>\n",
       "    </tr>\n",
       "    <tr>\n",
       "      <th>14</th>\n",
       "      <td>15</td>\n",
       "      <td>Mason</td>\n",
       "      <td>31</td>\n",
       "      <td>Portland</td>\n",
       "      <td>85000</td>\n",
       "    </tr>\n",
       "    <tr>\n",
       "      <th>15</th>\n",
       "      <td>16</td>\n",
       "      <td>Ava</td>\n",
       "      <td>26</td>\n",
       "      <td>Philadelphia</td>\n",
       "      <td>70000</td>\n",
       "    </tr>\n",
       "    <tr>\n",
       "      <th>16</th>\n",
       "      <td>17</td>\n",
       "      <td>Logan</td>\n",
       "      <td>33</td>\n",
       "      <td>Detroit</td>\n",
       "      <td>90000</td>\n",
       "    </tr>\n",
       "    <tr>\n",
       "      <th>17</th>\n",
       "      <td>18</td>\n",
       "      <td>Sofia</td>\n",
       "      <td>27</td>\n",
       "      <td>Minneapolis</td>\n",
       "      <td>75000</td>\n",
       "    </tr>\n",
       "    <tr>\n",
       "      <th>18</th>\n",
       "      <td>19</td>\n",
       "      <td>Aiden</td>\n",
       "      <td>30</td>\n",
       "      <td>Orlando</td>\n",
       "      <td>80000</td>\n",
       "    </tr>\n",
       "    <tr>\n",
       "      <th>19</th>\n",
       "      <td>20</td>\n",
       "      <td>Mia</td>\n",
       "      <td>32</td>\n",
       "      <td>Tampa</td>\n",
       "      <td>85000</td>\n",
       "    </tr>\n",
       "    <tr>\n",
       "      <th>20</th>\n",
       "      <td>21</td>\n",
       "      <td>Lucas</td>\n",
       "      <td>25</td>\n",
       "      <td>Sacramento</td>\n",
       "      <td>70000</td>\n",
       "    </tr>\n",
       "    <tr>\n",
       "      <th>21</th>\n",
       "      <td>22</td>\n",
       "      <td>Amelia</td>\n",
       "      <td>29</td>\n",
       "      <td>Pittsburgh</td>\n",
       "      <td>75000</td>\n",
       "    </tr>\n",
       "    <tr>\n",
       "      <th>22</th>\n",
       "      <td>23</td>\n",
       "      <td>Noah</td>\n",
       "      <td>34</td>\n",
       "      <td>Charlotte</td>\n",
       "      <td>95000</td>\n",
       "    </tr>\n",
       "    <tr>\n",
       "      <th>23</th>\n",
       "      <td>24</td>\n",
       "      <td>Ella</td>\n",
       "      <td>28</td>\n",
       "      <td>Raleigh</td>\n",
       "      <td>80000</td>\n",
       "    </tr>\n",
       "    <tr>\n",
       "      <th>24</th>\n",
       "      <td>25</td>\n",
       "      <td>Carter</td>\n",
       "      <td>31</td>\n",
       "      <td>Las Vegas</td>\n",
       "      <td>85000</td>\n",
       "    </tr>\n",
       "    <tr>\n",
       "      <th>25</th>\n",
       "      <td>26</td>\n",
       "      <td>Grace</td>\n",
       "      <td>26</td>\n",
       "      <td>Memphis</td>\n",
       "      <td>70000</td>\n",
       "    </tr>\n",
       "    <tr>\n",
       "      <th>26</th>\n",
       "      <td>27</td>\n",
       "      <td>Jack</td>\n",
       "      <td>33</td>\n",
       "      <td>Nashville</td>\n",
       "      <td>90000</td>\n",
       "    </tr>\n",
       "    <tr>\n",
       "      <th>27</th>\n",
       "      <td>28</td>\n",
       "      <td>Hannah</td>\n",
       "      <td>27</td>\n",
       "      <td>Kansas City</td>\n",
       "      <td>75000</td>\n",
       "    </tr>\n",
       "    <tr>\n",
       "      <th>28</th>\n",
       "      <td>29</td>\n",
       "      <td>Owen</td>\n",
       "      <td>30</td>\n",
       "      <td>New Orleans</td>\n",
       "      <td>80000</td>\n",
       "    </tr>\n",
       "    <tr>\n",
       "      <th>29</th>\n",
       "      <td>30</td>\n",
       "      <td>Lily</td>\n",
       "      <td>32</td>\n",
       "      <td>Salt Lake City</td>\n",
       "      <td>85000</td>\n",
       "    </tr>\n",
       "    <tr>\n",
       "      <th>30</th>\n",
       "      <td>31</td>\n",
       "      <td>Wyatt</td>\n",
       "      <td>25</td>\n",
       "      <td>San Antonio</td>\n",
       "      <td>70000</td>\n",
       "    </tr>\n",
       "    <tr>\n",
       "      <th>31</th>\n",
       "      <td>32</td>\n",
       "      <td>Avery</td>\n",
       "      <td>29</td>\n",
       "      <td>Indianapolis</td>\n",
       "      <td>75000</td>\n",
       "    </tr>\n",
       "    <tr>\n",
       "      <th>32</th>\n",
       "      <td>33</td>\n",
       "      <td>Luke</td>\n",
       "      <td>34</td>\n",
       "      <td>Oklahoma City</td>\n",
       "      <td>95000</td>\n",
       "    </tr>\n",
       "    <tr>\n",
       "      <th>33</th>\n",
       "      <td>34</td>\n",
       "      <td>Madison</td>\n",
       "      <td>28</td>\n",
       "      <td>Albuquerque</td>\n",
       "      <td>80000</td>\n",
       "    </tr>\n",
       "    <tr>\n",
       "      <th>34</th>\n",
       "      <td>35</td>\n",
       "      <td>Daniel</td>\n",
       "      <td>31</td>\n",
       "      <td>Milwaukee</td>\n",
       "      <td>85000</td>\n",
       "    </tr>\n",
       "    <tr>\n",
       "      <th>35</th>\n",
       "      <td>36</td>\n",
       "      <td>Evelyn</td>\n",
       "      <td>26</td>\n",
       "      <td>Fort Worth</td>\n",
       "      <td>70000</td>\n",
       "    </tr>\n",
       "    <tr>\n",
       "      <th>36</th>\n",
       "      <td>37</td>\n",
       "      <td>Jackson</td>\n",
       "      <td>33</td>\n",
       "      <td>Cleveland</td>\n",
       "      <td>90000</td>\n",
       "    </tr>\n",
       "    <tr>\n",
       "      <th>37</th>\n",
       "      <td>38</td>\n",
       "      <td>Victoria</td>\n",
       "      <td>27</td>\n",
       "      <td>Cincinnati</td>\n",
       "      <td>75000</td>\n",
       "    </tr>\n",
       "    <tr>\n",
       "      <th>38</th>\n",
       "      <td>39</td>\n",
       "      <td>David</td>\n",
       "      <td>30</td>\n",
       "      <td>St. Louis</td>\n",
       "      <td>80000</td>\n",
       "    </tr>\n",
       "    <tr>\n",
       "      <th>39</th>\n",
       "      <td>40</td>\n",
       "      <td>Samantha</td>\n",
       "      <td>32</td>\n",
       "      <td>Baltimore</td>\n",
       "      <td>85000</td>\n",
       "    </tr>\n",
       "    <tr>\n",
       "      <th>40</th>\n",
       "      <td>41</td>\n",
       "      <td>Joseph</td>\n",
       "      <td>25</td>\n",
       "      <td>Anaheim</td>\n",
       "      <td>70000</td>\n",
       "    </tr>\n",
       "    <tr>\n",
       "      <th>41</th>\n",
       "      <td>42</td>\n",
       "      <td>Chloe</td>\n",
       "      <td>29</td>\n",
       "      <td>Santa Ana</td>\n",
       "      <td>75000</td>\n",
       "    </tr>\n",
       "    <tr>\n",
       "      <th>42</th>\n",
       "      <td>43</td>\n",
       "      <td>Gabriel</td>\n",
       "      <td>34</td>\n",
       "      <td>Tucson</td>\n",
       "      <td>95000</td>\n",
       "    </tr>\n",
       "    <tr>\n",
       "      <th>43</th>\n",
       "      <td>44</td>\n",
       "      <td>Abigail</td>\n",
       "      <td>28</td>\n",
       "      <td>Chandler</td>\n",
       "      <td>80000</td>\n",
       "    </tr>\n",
       "    <tr>\n",
       "      <th>44</th>\n",
       "      <td>45</td>\n",
       "      <td>Samuel</td>\n",
       "      <td>31</td>\n",
       "      <td>Greensboro</td>\n",
       "      <td>85000</td>\n",
       "    </tr>\n",
       "    <tr>\n",
       "      <th>45</th>\n",
       "      <td>46</td>\n",
       "      <td>Eleanor</td>\n",
       "      <td>26</td>\n",
       "      <td>Boulder</td>\n",
       "      <td>70000</td>\n",
       "    </tr>\n",
       "    <tr>\n",
       "      <th>46</th>\n",
       "      <td>47</td>\n",
       "      <td>Lincoln</td>\n",
       "      <td>33</td>\n",
       "      <td>Fresno</td>\n",
       "      <td>90000</td>\n",
       "    </tr>\n",
       "    <tr>\n",
       "      <th>47</th>\n",
       "      <td>48</td>\n",
       "      <td>Zoey</td>\n",
       "      <td>27</td>\n",
       "      <td>Honolulu</td>\n",
       "      <td>75000</td>\n",
       "    </tr>\n",
       "    <tr>\n",
       "      <th>48</th>\n",
       "      <td>49</td>\n",
       "      <td>Jonathan</td>\n",
       "      <td>30</td>\n",
       "      <td>Lexington</td>\n",
       "      <td>80000</td>\n",
       "    </tr>\n",
       "    <tr>\n",
       "      <th>49</th>\n",
       "      <td>50</td>\n",
       "      <td>Hazel</td>\n",
       "      <td>32</td>\n",
       "      <td>Richmond</td>\n",
       "      <td>85000</td>\n",
       "    </tr>\n",
       "  </tbody>\n",
       "</table>\n",
       "</div>"
      ],
      "text/plain": [
       "    id       name  age            city  salary\n",
       "0    1       John   28        New York   75000\n",
       "1    2       Jane   35   San Francisco   85000\n",
       "2    3    Michael   22     Los Angeles   60000\n",
       "3    4      Emily   31         Chicago   70000\n",
       "4    5    William   29          Boston   80000\n",
       "5    6     Sophia   26         Seattle   70000\n",
       "6    7  Alexander   33          Dallas   90000\n",
       "7    8     Olivia   27          Austin   75000\n",
       "8    9      James   30           Miami   80000\n",
       "9   10  Charlotte   32          Denver   85000\n",
       "10  11      Ethan   25         Atlanta   70000\n",
       "11  12       Emma   29         Houston   75000\n",
       "12  13       Liam   34         Phoenix   95000\n",
       "13  14   Isabella   28       San Diego   80000\n",
       "14  15      Mason   31        Portland   85000\n",
       "15  16        Ava   26    Philadelphia   70000\n",
       "16  17      Logan   33         Detroit   90000\n",
       "17  18      Sofia   27     Minneapolis   75000\n",
       "18  19      Aiden   30         Orlando   80000\n",
       "19  20        Mia   32           Tampa   85000\n",
       "20  21      Lucas   25      Sacramento   70000\n",
       "21  22     Amelia   29      Pittsburgh   75000\n",
       "22  23       Noah   34       Charlotte   95000\n",
       "23  24       Ella   28         Raleigh   80000\n",
       "24  25     Carter   31       Las Vegas   85000\n",
       "25  26      Grace   26         Memphis   70000\n",
       "26  27       Jack   33       Nashville   90000\n",
       "27  28     Hannah   27     Kansas City   75000\n",
       "28  29       Owen   30     New Orleans   80000\n",
       "29  30       Lily   32  Salt Lake City   85000\n",
       "30  31      Wyatt   25     San Antonio   70000\n",
       "31  32      Avery   29    Indianapolis   75000\n",
       "32  33       Luke   34   Oklahoma City   95000\n",
       "33  34    Madison   28     Albuquerque   80000\n",
       "34  35     Daniel   31       Milwaukee   85000\n",
       "35  36     Evelyn   26      Fort Worth   70000\n",
       "36  37    Jackson   33       Cleveland   90000\n",
       "37  38   Victoria   27      Cincinnati   75000\n",
       "38  39      David   30       St. Louis   80000\n",
       "39  40   Samantha   32       Baltimore   85000\n",
       "40  41     Joseph   25         Anaheim   70000\n",
       "41  42      Chloe   29       Santa Ana   75000\n",
       "42  43    Gabriel   34          Tucson   95000\n",
       "43  44    Abigail   28        Chandler   80000\n",
       "44  45     Samuel   31      Greensboro   85000\n",
       "45  46    Eleanor   26         Boulder   70000\n",
       "46  47    Lincoln   33          Fresno   90000\n",
       "47  48       Zoey   27        Honolulu   75000\n",
       "48  49   Jonathan   30       Lexington   80000\n",
       "49  50      Hazel   32        Richmond   85000"
      ]
     },
     "execution_count": 9,
     "metadata": {},
     "output_type": "execute_result"
    }
   ],
   "source": [
    "df.dropna()  # Remove missing values\n",
    "df.fillna(\"Unknown\")  # Fill missing values\n",
    "# df.fillna(df.mean())  # Fill missing values with mean"
   ]
  },
  {
   "cell_type": "markdown",
   "metadata": {},
   "source": [
    "## 🔹 Removing Duplicates"
   ]
  },
  {
   "cell_type": "code",
   "execution_count": 10,
   "metadata": {},
   "outputs": [],
   "source": [
    "df.drop_duplicates(inplace=True)"
   ]
  },
  {
   "cell_type": "markdown",
   "metadata": {},
   "source": [
    "## 🔹 String Operations"
   ]
  },
  {
   "cell_type": "code",
   "execution_count": null,
   "metadata": {},
   "outputs": [],
   "source": [
    "df['Name'] = df['Name'].str.upper()  # Convert to uppercase\n",
    "df['Name'] = df['Name'].str.strip()  # Remove spaces\n",
    "df['Email_Domain'] = df['Email'].str.split('@').str[1]  # Extract email domain\n"
   ]
  },
  {
   "cell_type": "markdown",
   "metadata": {},
   "source": [
    "## 🔹 Data Type Conversion"
   ]
  },
  {
   "cell_type": "code",
   "execution_count": null,
   "metadata": {},
   "outputs": [],
   "source": [
    "df['Age'] = df['Age'].astype(int)\n",
    "df['Salary'] = df['Salary'].astype(float)\n"
   ]
  },
  {
   "cell_type": "markdown",
   "metadata": {},
   "source": [
    "# 📌 6. Data Transformation\n",
    "## 🔹 Merging DataFrames"
   ]
  },
  {
   "cell_type": "code",
   "execution_count": null,
   "metadata": {},
   "outputs": [],
   "source": [
    "df1.merge(df2, on=\"ID\", how=\"inner\")  # Inner Join\n",
    "df1.merge(df2, on=\"ID\", how=\"left\")  # Left Join\n"
   ]
  },
  {
   "cell_type": "markdown",
   "metadata": {},
   "source": [
    "## 🔹 Grouping and Aggregations"
   ]
  },
  {
   "cell_type": "code",
   "execution_count": null,
   "metadata": {},
   "outputs": [],
   "source": [
    "df.groupby('Department')['Salary'].mean()  # Grouping and calculating mean salary\n",
    "df.groupby('Category').agg({'Sales': 'sum', 'Profit': 'mean'})  # Multiple aggregations\n"
   ]
  },
  {
   "cell_type": "markdown",
   "metadata": {},
   "source": [
    "## 🔹 Pivot Tables"
   ]
  },
  {
   "cell_type": "code",
   "execution_count": null,
   "metadata": {},
   "outputs": [],
   "source": [
    "df.pivot_table(values='Salary', index='Department', columns='Gender', aggfunc='mean')\n"
   ]
  },
  {
   "cell_type": "markdown",
   "metadata": {},
   "source": [
    "## 🔹 Reshaping Data"
   ]
  },
  {
   "cell_type": "code",
   "execution_count": null,
   "metadata": {},
   "outputs": [],
   "source": [
    "df.melt(id_vars=['ID'], var_name='Feature', value_name='Value')\n"
   ]
  },
  {
   "cell_type": "markdown",
   "metadata": {},
   "source": [
    "# 📌 7. Data Filtering and Selection\n",
    "## 🔹 Indexing and Slicing"
   ]
  },
  {
   "cell_type": "code",
   "execution_count": null,
   "metadata": {},
   "outputs": [],
   "source": [
    "df.loc[df['Salary'] > 50000]  # Filter rows where Salary > 50000\n",
    "df.iloc[0:5]  # Select first 5 rows\n"
   ]
  },
  {
   "cell_type": "markdown",
   "metadata": {},
   "source": [
    "## 🔹 Querying Data"
   ]
  },
  {
   "cell_type": "code",
   "execution_count": null,
   "metadata": {},
   "outputs": [],
   "source": [
    "df.query(\"Age > 30 and Salary > 50000\")\n"
   ]
  },
  {
   "cell_type": "markdown",
   "metadata": {},
   "source": [
    "# 📌 8. Performance Optimization\n",
    "## 🔹 Using Efficient Data Types"
   ]
  },
  {
   "cell_type": "code",
   "execution_count": null,
   "metadata": {},
   "outputs": [],
   "source": [
    "df['Category'] = df['Category'].astype('category')  # Reduce memory usage\n"
   ]
  },
  {
   "cell_type": "markdown",
   "metadata": {},
   "source": [
    "## 🔹 Working with Large Datasets"
   ]
  },
  {
   "cell_type": "code",
   "execution_count": null,
   "metadata": {},
   "outputs": [],
   "source": [
    "df = pd.read_csv(\"large_file.csv\", chunksize=10000)\n",
    "for chunk in df:\n",
    "    process(chunk)\n"
   ]
  },
  {
   "cell_type": "markdown",
   "metadata": {},
   "source": [
    "## 🔹 Parallel Processing\n",
    "- Use Dask for handling large datasets."
   ]
  },
  {
   "cell_type": "code",
   "execution_count": null,
   "metadata": {},
   "outputs": [],
   "source": [
    "import dask.dataframe as dd\n",
    "df = dd.read_csv(\"large_file.csv\")\n"
   ]
  },
  {
   "cell_type": "markdown",
   "metadata": {},
   "source": [
    "# 📌 9. Working with Time Series Data"
   ]
  },
  {
   "cell_type": "code",
   "execution_count": null,
   "metadata": {},
   "outputs": [],
   "source": [
    "df['Date'] = pd.to_datetime(df['Date'])\n",
    "df.set_index('Date', inplace=True)\n",
    "df.resample('M').mean()  # Resample to monthly data\n"
   ]
  },
  {
   "cell_type": "markdown",
   "metadata": {},
   "source": [
    "# 📌 10. Integration with SQL and Databases"
   ]
  },
  {
   "cell_type": "code",
   "execution_count": null,
   "metadata": {},
   "outputs": [],
   "source": [
    "import sqlite3\n",
    "conn = sqlite3.connect('database.db')\n",
    "df.to_sql('table_name', conn, if_exists='replace', index=False)\n"
   ]
  },
  {
   "cell_type": "markdown",
   "metadata": {},
   "source": [
    "# 📌 11. Pandas and Big Data Processing\n",
    "- Use Pandas with Spark for big data."
   ]
  },
  {
   "cell_type": "code",
   "execution_count": null,
   "metadata": {},
   "outputs": [],
   "source": [
    "from pyspark.sql import SparkSession\n",
    "spark = SparkSession.builder.appName(\"Pandas_Spark\").getOrCreate()\n",
    "df = spark.read.csv(\"big_data.csv\", header=True, inferSchema=True)\n",
    "df.show()\n"
   ]
  },
  {
   "cell_type": "markdown",
   "metadata": {},
   "source": []
  }
 ],
 "metadata": {
  "kernelspec": {
   "display_name": "base",
   "language": "python",
   "name": "python3"
  },
  "language_info": {
   "codemirror_mode": {
    "name": "ipython",
    "version": 3
   },
   "file_extension": ".py",
   "mimetype": "text/x-python",
   "name": "python",
   "nbconvert_exporter": "python",
   "pygments_lexer": "ipython3",
   "version": "3.12.7"
  }
 },
 "nbformat": 4,
 "nbformat_minor": 2
}
